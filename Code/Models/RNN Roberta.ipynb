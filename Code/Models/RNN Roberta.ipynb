{
 "cells": [
  {
   "cell_type": "markdown",
   "metadata": {},
   "source": [
    "# Sarcasm Detection using RCNN-RoBERTa\n"
   ]
  },
  {
   "cell_type": "markdown",
   "metadata": {},
   "source": [
    "## Model Configuration\n",
    "- **Architecture Parameters:**\n",
    "  - RoBERTa base model\n",
    "  - LSTM hidden size: 64\n",
    "  - Dropout: 0.1\n",
    "  - Number of classes: 2\n",
    "\n",
    "- **Training Parameters:**\n",
    "  - Batch size: 16\n",
    "  - Learning rate: 2e-5\n",
    "  - Weight decay: 1e-5\n",
    "  - Number of epochs: 5\n",
    "  - Optimizer: AdamW\n",
    "\n",
    "## Hardware Requirements\n",
    "The code supports multiple computing devices:\n",
    "- Apple M1/M2 (MPS)\n",
    "- NVIDIA GPU (CUDA)\n",
    "- CPU (fallback)\n"
   ]
  },
  {
   "cell_type": "markdown",
   "metadata": {},
   "source": [
    "## Setup and Imports"
   ]
  },
  {
   "cell_type": "code",
   "execution_count": 2,
   "metadata": {},
   "outputs": [],
   "source": [
    "import pandas as pd\n",
    "import numpy as np\n",
    "from sklearn.model_selection import train_test_split\n",
    "import torch\n",
    "import torch.nn as nn\n",
    "from torch.utils.data import Dataset, DataLoader\n",
    "from transformers import RobertaTokenizer, RobertaModel\n",
    "from sklearn.metrics import classification_report, confusion_matrix\n",
    "import logging\n",
    "from tqdm import tqdm"
   ]
  },
  {
   "cell_type": "markdown",
   "metadata": {},
   "source": [
    "# Set up logging"
   ]
  },
  {
   "cell_type": "code",
   "execution_count": 5,
   "metadata": {},
   "outputs": [],
   "source": [
    "# Set up logging\n",
    "logging.basicConfig(level=logging.INFO)\n",
    "logger = logging.getLogger(__name__)"
   ]
  },
  {
   "cell_type": "markdown",
   "metadata": {},
   "source": [
    "## Dataset Class\n",
    "Custom dataset class for handling headline data and tokenization."
   ]
  },
  {
   "cell_type": "code",
   "execution_count": 8,
   "metadata": {},
   "outputs": [],
   "source": [
    "class HeadlineDataset(Dataset):\n",
    "    def __init__(self, headlines, labels, tokenizer, max_length=128):\n",
    "        self.headlines = headlines\n",
    "        self.labels = labels\n",
    "        self.tokenizer = tokenizer\n",
    "        self.max_length = max_length\n",
    "    \n",
    "    def __len__(self):\n",
    "        return len(self.headlines)\n",
    "    \n",
    "    def __getitem__(self, idx):\n",
    "        headline = str(self.headlines[idx])\n",
    "        label = 1 if self.labels[idx] == 'sarcastic' else 0\n",
    "        \n",
    "        encoding = self.tokenizer.encode_plus(\n",
    "            headline,\n",
    "            add_special_tokens=True,\n",
    "            max_length=self.max_length,\n",
    "            padding='max_length',\n",
    "            truncation=True,\n",
    "            return_attention_mask=True,\n",
    "            return_tensors='pt'\n",
    "        )\n",
    "        \n",
    "        return {\n",
    "            'input_ids': encoding['input_ids'].flatten(),\n",
    "            'attention_mask': encoding['attention_mask'].flatten(),\n",
    "            'label': torch.tensor(label, dtype=torch.long)\n",
    "        }"
   ]
  },
  {
   "cell_type": "markdown",
   "metadata": {},
   "source": [
    "## Model Architecture\n",
    "Implementation of the RCNN-RoBERTa model combining RoBERTa with LSTM and CNN-like processing.\n"
   ]
  },
  {
   "cell_type": "code",
   "execution_count": 11,
   "metadata": {},
   "outputs": [],
   "source": [
    "class RCNNRoBERTa(nn.Module):\n",
    "    def __init__(self, n_classes=2, dropout=0.1, lstm_hidden_size=64):\n",
    "        super(RCNNRoBERTa, self).__init__()\n",
    "        \n",
    "        self.roberta = RobertaModel.from_pretrained('roberta-base')\n",
    "        self.hidden_size = self.roberta.config.hidden_size\n",
    "        self.lstm_hidden_size = lstm_hidden_size\n",
    "        \n",
    "        self.lstm = nn.LSTM(\n",
    "            input_size=self.hidden_size,\n",
    "            hidden_size=self.lstm_hidden_size,\n",
    "            bidirectional=True,\n",
    "            batch_first=True\n",
    "        )\n",
    "        \n",
    "        self.W = nn.Linear(\n",
    "            self.hidden_size + 2 * self.lstm_hidden_size,\n",
    "            self.hidden_size\n",
    "        )\n",
    "        \n",
    "        self.dropout = nn.Dropout(dropout)\n",
    "        self.classifier = nn.Linear(self.hidden_size, n_classes)\n",
    "\n",
    "    def forward(self, input_ids, attention_mask):\n",
    "        roberta_output = self.roberta(\n",
    "            input_ids=input_ids,\n",
    "            attention_mask=attention_mask\n",
    "        )\n",
    "        \n",
    "        hidden_states = roberta_output.last_hidden_state\n",
    "        lstm_output, _ = self.lstm(hidden_states)\n",
    "        \n",
    "        concat = torch.cat((hidden_states, lstm_output), dim=2)\n",
    "        conv_input = torch.tanh(self.W(concat))\n",
    "        \n",
    "        pooled = torch.max(conv_input, dim=1)[0]\n",
    "        dropped = self.dropout(pooled)\n",
    "        logits = self.classifier(dropped)\n",
    "        \n",
    "        return logits\n",
    "\n"
   ]
  },
  {
   "cell_type": "markdown",
   "metadata": {},
   "source": [
    "## Training Functions"
   ]
  },
  {
   "cell_type": "markdown",
   "metadata": {},
   "source": [
    "### Training Epoch"
   ]
  },
  {
   "cell_type": "code",
   "execution_count": 15,
   "metadata": {},
   "outputs": [],
   "source": [
    "def train_epoch(model, dataloader, criterion, optimizer, device):\n",
    "    model.train()\n",
    "    total_loss = 0\n",
    "    correct_predictions = 0\n",
    "    total_predictions = 0\n",
    "\n",
    "    progress_bar = tqdm(dataloader, desc='Training')\n",
    "    for batch in progress_bar:\n",
    "        input_ids = batch['input_ids'].to(device, non_blocking=True)\n",
    "        attention_mask = batch['attention_mask'].to(device, non_blocking=True)\n",
    "        labels = batch['label'].to(device, non_blocking=True)\n",
    "\n",
    "        optimizer.zero_grad()\n",
    "        outputs = model(input_ids, attention_mask)\n",
    "        loss = criterion(outputs, labels)\n",
    "\n",
    "        loss.backward()\n",
    "        optimizer.step()\n",
    "\n",
    "        total_loss += loss.item()\n",
    "        _, predicted = torch.max(outputs, 1)\n",
    "        correct_predictions += (predicted == labels).sum().item()\n",
    "        total_predictions += labels.size(0)\n",
    "\n",
    "        progress_bar.set_postfix({'loss': f'{loss.item():.4f}'})\n",
    "\n",
    "    return total_loss / len(dataloader), correct_predictions / total_predictions\n",
    "\n",
    "\n",
    "\n",
    "   "
   ]
  },
  {
   "cell_type": "markdown",
   "metadata": {},
   "source": [
    "### Evaluation"
   ]
  },
  {
   "cell_type": "code",
   "execution_count": 18,
   "metadata": {},
   "outputs": [],
   "source": [
    "def evaluate(model, dataloader, criterion, device):\n",
    "    model.eval()\n",
    "    total_loss = 0\n",
    "    all_predictions = []\n",
    "    all_labels = []\n",
    "\n",
    "    with torch.no_grad():\n",
    "        for batch in dataloader:\n",
    "            input_ids = batch['input_ids'].to(device, non_blocking=True)\n",
    "            attention_mask = batch['attention_mask'].to(device, non_blocking=True)\n",
    "            labels = batch['label'].to(device, non_blocking=True)\n",
    "\n",
    "            outputs = model(input_ids, attention_mask)\n",
    "            loss = criterion(outputs, labels)\n",
    "\n",
    "            total_loss += loss.item()\n",
    "            _, predicted = torch.max(outputs, 1)\n",
    "\n",
    "            all_predictions.extend(predicted.cpu().numpy())\n",
    "            all_labels.extend(labels.cpu().numpy())\n",
    "\n",
    "    return (\n",
    "        total_loss / len(dataloader),\n",
    "        classification_report(all_labels, all_predictions),\n",
    "        confusion_matrix(all_labels, all_predictions)\n",
    "    )\n",
    "\n",
    "\n"
   ]
  },
  {
   "cell_type": "markdown",
   "metadata": {},
   "source": [
    "### Complete Training Pipeline"
   ]
  },
  {
   "cell_type": "code",
   "execution_count": 21,
   "metadata": {},
   "outputs": [
    {
     "data": {
      "application/vnd.jupyter.widget-view+json": {
       "model_id": "bed745f8881c46bf87b97b617cbc8491",
       "version_major": 2,
       "version_minor": 0
      },
      "text/plain": [
       "tokenizer_config.json:   0%|          | 0.00/25.0 [00:00<?, ?B/s]"
      ]
     },
     "metadata": {},
     "output_type": "display_data"
    },
    {
     "data": {
      "application/vnd.jupyter.widget-view+json": {
       "model_id": "71578a08e4af49b288ba3bc37fb67336",
       "version_major": 2,
       "version_minor": 0
      },
      "text/plain": [
       "vocab.json:   0%|          | 0.00/899k [00:00<?, ?B/s]"
      ]
     },
     "metadata": {},
     "output_type": "display_data"
    },
    {
     "data": {
      "application/vnd.jupyter.widget-view+json": {
       "model_id": "386f4911e41f482483ea360eac0b1996",
       "version_major": 2,
       "version_minor": 0
      },
      "text/plain": [
       "merges.txt:   0%|          | 0.00/456k [00:00<?, ?B/s]"
      ]
     },
     "metadata": {},
     "output_type": "display_data"
    },
    {
     "data": {
      "application/vnd.jupyter.widget-view+json": {
       "model_id": "357cbb1a0f4446b8b73896eb7482e705",
       "version_major": 2,
       "version_minor": 0
      },
      "text/plain": [
       "tokenizer.json:   0%|          | 0.00/1.36M [00:00<?, ?B/s]"
      ]
     },
     "metadata": {},
     "output_type": "display_data"
    },
    {
     "data": {
      "application/vnd.jupyter.widget-view+json": {
       "model_id": "dc899233a9a54d70a992373a696788cb",
       "version_major": 2,
       "version_minor": 0
      },
      "text/plain": [
       "config.json:   0%|          | 0.00/481 [00:00<?, ?B/s]"
      ]
     },
     "metadata": {},
     "output_type": "display_data"
    },
    {
     "name": "stderr",
     "output_type": "stream",
     "text": [
      "INFO:__main__:Using device: mps\n"
     ]
    },
    {
     "data": {
      "application/vnd.jupyter.widget-view+json": {
       "model_id": "570ab1ce6dd74bc58dde7bd384878f20",
       "version_major": 2,
       "version_minor": 0
      },
      "text/plain": [
       "model.safetensors:   0%|          | 0.00/499M [00:00<?, ?B/s]"
      ]
     },
     "metadata": {},
     "output_type": "display_data"
    },
    {
     "name": "stderr",
     "output_type": "stream",
     "text": [
      "Some weights of RobertaModel were not initialized from the model checkpoint at roberta-base and are newly initialized: ['roberta.pooler.dense.bias', 'roberta.pooler.dense.weight']\n",
      "You should probably TRAIN this model on a down-stream task to be able to use it for predictions and inference.\n",
      "INFO:__main__:\n",
      "Epoch 1/5\n",
      "Training: 100%|██████████| 1336/1336 [12:18<00:00,  1.81it/s, loss=0.0392]\n",
      "INFO:__main__:Training Loss: 0.2583, Accuracy: 0.8897\n",
      "INFO:__main__:Validation Loss: 0.1575\n",
      "INFO:__main__:\n",
      "Classification Report:\n",
      "              precision    recall  f1-score   support\n",
      "\n",
      "           0       0.94      0.95      0.94      2997\n",
      "           1       0.94      0.92      0.93      2345\n",
      "\n",
      "    accuracy                           0.94      5342\n",
      "   macro avg       0.94      0.93      0.94      5342\n",
      "weighted avg       0.94      0.94      0.94      5342\n",
      "\n",
      "INFO:__main__:\n",
      "Confusion Matrix:\n",
      "[[2849  148]\n",
      " [ 191 2154]]\n",
      "INFO:__main__:Saved best model checkpoint\n",
      "INFO:__main__:\n",
      "Epoch 2/5\n",
      "Training: 100%|██████████| 1336/1336 [12:13<00:00,  1.82it/s, loss=0.1263]\n",
      "INFO:__main__:Training Loss: 0.1314, Accuracy: 0.9487\n",
      "INFO:__main__:Validation Loss: 0.1815\n",
      "INFO:__main__:\n",
      "Classification Report:\n",
      "              precision    recall  f1-score   support\n",
      "\n",
      "           0       0.90      0.98      0.94      2997\n",
      "           1       0.97      0.86      0.91      2345\n",
      "\n",
      "    accuracy                           0.93      5342\n",
      "   macro avg       0.94      0.92      0.93      5342\n",
      "weighted avg       0.93      0.93      0.93      5342\n",
      "\n",
      "INFO:__main__:\n",
      "Confusion Matrix:\n",
      "[[2933   64]\n",
      " [ 322 2023]]\n",
      "INFO:__main__:\n",
      "Epoch 3/5\n",
      "Training: 100%|██████████| 1336/1336 [12:11<00:00,  1.83it/s, loss=0.5632]\n",
      "INFO:__main__:Training Loss: 0.0758, Accuracy: 0.9728\n",
      "INFO:__main__:Validation Loss: 0.1625\n",
      "INFO:__main__:\n",
      "Classification Report:\n",
      "              precision    recall  f1-score   support\n",
      "\n",
      "           0       0.94      0.96      0.95      2997\n",
      "           1       0.95      0.92      0.93      2345\n",
      "\n",
      "    accuracy                           0.94      5342\n",
      "   macro avg       0.94      0.94      0.94      5342\n",
      "weighted avg       0.94      0.94      0.94      5342\n",
      "\n",
      "INFO:__main__:\n",
      "Confusion Matrix:\n",
      "[[2875  122]\n",
      " [ 186 2159]]\n",
      "INFO:__main__:\n",
      "Epoch 4/5\n",
      "Training: 100%|██████████| 1336/1336 [12:11<00:00,  1.83it/s, loss=0.0082]\n",
      "INFO:__main__:Training Loss: 0.0499, Accuracy: 0.9825\n",
      "INFO:__main__:Validation Loss: 0.2588\n",
      "INFO:__main__:\n",
      "Classification Report:\n",
      "              precision    recall  f1-score   support\n",
      "\n",
      "           0       0.89      0.97      0.93      2997\n",
      "           1       0.96      0.85      0.90      2345\n",
      "\n",
      "    accuracy                           0.92      5342\n",
      "   macro avg       0.93      0.91      0.92      5342\n",
      "weighted avg       0.92      0.92      0.92      5342\n",
      "\n",
      "INFO:__main__:\n",
      "Confusion Matrix:\n",
      "[[2921   76]\n",
      " [ 346 1999]]\n",
      "INFO:__main__:\n",
      "Epoch 5/5\n",
      "Training: 100%|██████████| 1336/1336 [12:15<00:00,  1.82it/s, loss=0.0009]\n",
      "INFO:__main__:Training Loss: 0.0375, Accuracy: 0.9875\n",
      "INFO:__main__:Validation Loss: 0.2050\n",
      "INFO:__main__:\n",
      "Classification Report:\n",
      "              precision    recall  f1-score   support\n",
      "\n",
      "           0       0.94      0.95      0.95      2997\n",
      "           1       0.93      0.93      0.93      2345\n",
      "\n",
      "    accuracy                           0.94      5342\n",
      "   macro avg       0.94      0.94      0.94      5342\n",
      "weighted avg       0.94      0.94      0.94      5342\n",
      "\n",
      "INFO:__main__:\n",
      "Confusion Matrix:\n",
      "[[2843  154]\n",
      " [ 173 2172]]\n"
     ]
    }
   ],
   "source": [
    "def train_model(train_df, val_df):\n",
    "    torch.manual_seed(42)\n",
    "    np.random.seed(42)\n",
    "\n",
    "    tokenizer = RobertaTokenizer.from_pretrained('roberta-base')\n",
    "    train_dataset = HeadlineDataset(train_df['headline'].values, train_df['label'].values, tokenizer)\n",
    "    val_dataset = HeadlineDataset(val_df['headline'].values, val_df['label'].values, tokenizer)\n",
    "\n",
    "    train_loader = DataLoader(train_dataset, batch_size=16, shuffle=True, num_workers=0)\n",
    "    val_loader = DataLoader(val_dataset, batch_size=16, num_workers=0)\n",
    "\n",
    "    device = torch.device('mps' if torch.backends.mps.is_available() else \n",
    "                          'cuda' if torch.cuda.is_available() else 'cpu')\n",
    "    logger.info(f\"Using device: {device}\")\n",
    "\n",
    "    model = RCNNRoBERTa().to(device)\n",
    "    optimizer = torch.optim.AdamW(model.parameters(), lr=2e-5, weight_decay=1e-5)\n",
    "    criterion = nn.CrossEntropyLoss()\n",
    "\n",
    "    num_epochs = 5\n",
    "    best_val_loss = float('inf')\n",
    "\n",
    "    for epoch in range(num_epochs):\n",
    "        logger.info(f'\\nEpoch {epoch + 1}/{num_epochs}')\n",
    "        train_loss, train_acc = train_epoch(model, train_loader, criterion, optimizer, device)\n",
    "        logger.info(f'Training Loss: {train_loss:.4f}, Accuracy: {train_acc:.4f}')\n",
    "\n",
    "        val_loss, val_report, val_conf_matrix = evaluate(model, val_loader, criterion, device)\n",
    "        logger.info(f'Validation Loss: {val_loss:.4f}')\n",
    "        logger.info(f'\\nClassification Report:\\n{val_report}')\n",
    "        logger.info(f'\\nConfusion Matrix:\\n{val_conf_matrix}')\n",
    "\n",
    "        if val_loss < best_val_loss:\n",
    "            best_val_loss = val_loss\n",
    "            torch.save(model.state_dict(), 'best_sarcasm_model.pt')\n",
    "            logger.info('Saved best model checkpoint')\n",
    "\n",
    "    return model, tokenizer\n",
    "\n",
    "\n",
    "if __name__ == \"__main__\":\n",
    "    df = pd.read_csv('Headlines.csv')\n",
    "    \n",
    "    train_df, val_df = train_test_split(\n",
    "        df, test_size=0.2, random_state=42, stratify=df['label']\n",
    "    )\n",
    "    \n",
    "    model, tokenizer = train_model(train_df, val_df)\n",
    "    "
   ]
  },
  {
   "cell_type": "markdown",
   "metadata": {},
   "source": [
    "## Prediction Function"
   ]
  },
  {
   "cell_type": "code",
   "execution_count": 24,
   "metadata": {},
   "outputs": [],
   "source": [
    "def predict_headline(model, headline, tokenizer, device):\n",
    "    model.eval()\n",
    "    encoding = tokenizer.encode_plus(\n",
    "        headline,\n",
    "        add_special_tokens=True,\n",
    "        max_length=128,\n",
    "        padding='max_length',\n",
    "        truncation=True,\n",
    "        return_attention_mask=True,\n",
    "        return_tensors='pt'\n",
    "    )\n",
    "\n",
    "    input_ids = encoding['input_ids'].to(device, non_blocking=True)\n",
    "    attention_mask = encoding['attention_mask'].to(device, non_blocking=True)\n",
    "\n",
    "    with torch.no_grad():\n",
    "        outputs = model(input_ids, attention_mask)\n",
    "        probabilities = torch.softmax(outputs, dim=1)\n",
    "        prediction = torch.argmax(probabilities, dim=1)\n",
    "\n",
    "    return {\n",
    "        'prediction': 'sarcastic' if prediction.item() == 1 else 'not sarcastic',\n",
    "        'confidence': probabilities[0][prediction.item()].item()\n",
    "    }"
   ]
  },
  {
   "cell_type": "code",
   "execution_count": 26,
   "metadata": {},
   "outputs": [
    {
     "name": "stdout",
     "output_type": "stream",
     "text": [
      "\n",
      "Test prediction for: 'mr. falafel' owner does not actually like being addressed as mr. falafel'\n",
      "Prediction: sarcastic\n",
      "Confidence: 1.00\n"
     ]
    }
   ],
   "source": [
    " # Test prediction 1\n",
    "test_headline = \"mr. falafel' owner does not actually like being addressed as mr. falafel\"\n",
    "result = predict_headline(model, test_headline, tokenizer, 'mps' if torch.backends.mps.is_available() else \n",
    "                        'cuda' if torch.cuda.is_available() else 'cpu')\n",
    "print(f\"\\nTest prediction for: '{test_headline}'\")\n",
    "print(f\"Prediction: {result['prediction']}\")\n",
    "print(f\"Confidence: {result['confidence']:.2f}\")"
   ]
  },
  {
   "cell_type": "code",
   "execution_count": 28,
   "metadata": {},
   "outputs": [
    {
     "name": "stdout",
     "output_type": "stream",
     "text": [
      "\n",
      "Test prediction for: 'scalia's utter moral failure exposed'\n",
      "Prediction: not sarcastic\n",
      "Confidence: 0.98\n"
     ]
    }
   ],
   "source": [
    " # Test prediction 2\n",
    "test_headline = \"scalia's utter moral failure exposed\"\n",
    "result = predict_headline(model, test_headline, tokenizer, 'mps' if torch.backends.mps.is_available() else \n",
    "                        'cuda' if torch.cuda.is_available() else 'cpu')\n",
    "print(f\"\\nTest prediction for: '{test_headline}'\")\n",
    "print(f\"Prediction: {result['prediction']}\")\n",
    "print(f\"Confidence: {result['confidence']:.2f}\")"
   ]
  },
  {
   "cell_type": "code",
   "execution_count": null,
   "metadata": {},
   "outputs": [],
   "source": []
  }
 ],
 "metadata": {
  "kernelspec": {
   "display_name": "Python 3 (ipykernel)",
   "language": "python",
   "name": "python3"
  },
  "language_info": {
   "codemirror_mode": {
    "name": "ipython",
    "version": 3
   },
   "file_extension": ".py",
   "mimetype": "text/x-python",
   "name": "python",
   "nbconvert_exporter": "python",
   "pygments_lexer": "ipython3",
   "version": "3.12.5"
  }
 },
 "nbformat": 4,
 "nbformat_minor": 4
}
